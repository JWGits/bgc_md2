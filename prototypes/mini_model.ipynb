{
 "cells": [
  {
   "cell_type": "code",
   "execution_count": 30,
   "id": "08189cee",
   "metadata": {},
   "outputs": [],
   "source": [
    "from sympy import var,Function,Symbol\n",
    "from ComputabilityGraphs.CMTVS import CMTVS\n",
    "from bgc_md2.helper import bgc_md2_computers\n",
    "from bgc_md2.resolve.mvars import (\n",
    "    InFluxesBySymbol,\n",
    "    OutFluxesBySymbol,\n",
    "    InternalFluxesBySymbol,\n",
    "    TimeSymbol,\n",
    "    StateVariableTuple,\n",
    ")"
   ]
  },
  {
   "cell_type": "code",
   "execution_count": 106,
   "id": "efcfdef5",
   "metadata": {
    "lines_to_next_cell": 2
   },
   "outputs": [],
   "source": [
    "#define all the symbols you are going to use in the equations\n",
    "sym_dict={\n",
    "    \"AGLIVC\": \"Above ground live grass C pool \",\n",
    "    \"BGLIVC\": \"Below ground live grass root C pool \",\n",
    "    \"STDEDC\": \"Standing dead C pool \", \n",
    "    \"STRUCC_1\": \"Surface structural C pool\",\n",
    "    \"STRUCC_2\": \"Below ground structural C pool\",\n",
    "    \"SOM1C1\": \"Surface microbe C pool\",\n",
    "    \"SOM1C2\": \"Active organic C pool\",\n",
    "    \"SOM2C\": \"Slow organic C pool\",\n",
    "    \"SOM3C\": \"Passive soil organic matter C pool\",\n",
    "    \"cultra4\": \"fraction of standing dead C to surface litter\", \n",
    "    \"cultra1\": \"fraction of above ground live C transferred to standing dead\", \n",
    "    \"METABC_1\": \"Surface metabolic C \",\n",
    "    \"METABC_2\": \"Below ground metabolic C \",\n",
    "    \"cprodc_A\": \"fraction of Gpp that goes to the above ground part\",\n",
    "    \"cprodc_B\": \"fraction of Gpp that goes to the below ground part\",\n",
    "    \"r_leaf2out\": \"\",\n",
    "    \"r_wood2out\": \"\",\n",
    "}\n",
    "for k in sym_dict.keys():\n",
    "    code=k+\" = Symbol('{0}')\".format(k)\n",
    "    exec(code)\n",
    "    \n",
    "func_dict = {\n",
    "    \"Gpp_grass\": \"Total C production for grass in g/m^2*month FIXME\"\n",
    "}\n",
    "for k in func_dict.keys():\n",
    "    code=k+\" = Function('{0}')\".format(k)\n",
    "    exec(code)\n",
    "\n",
    "cprodc_B = 1 - cprodc_A\n",
    "    \n",
    "    \n",
    "#I_wood=Function(\"I_wood\") \n",
    "t=TimeSymbol(\"t\") # the symbol used for time since it has a special role\n",
    "\n",
    "# formulate the model\n",
    "mvs = CMTVS(\n",
    "    {\n",
    "        StateVariableTuple( # the pool names in your preferred order\n",
    "            (\n",
    "                AGLIVC,\n",
    "                BGLIVC,\n",
    "                STDEDC,\n",
    "                STRUCC_1,\n",
    "                STRUCC_2,\n",
    "                SOM1C1,\n",
    "                SOM1C2,\n",
    "                SOM2C,\n",
    "                SOM3C,\n",
    "                METABC_1,\n",
    "                METABC_2,\n",
    "            )\n",
    "        ), \n",
    "        t, \n",
    "        InFluxesBySymbol({\n",
    "            AGLIVC: Gpp_grass(t)*cprodc_A, \n",
    "            BGLIVC: Gpp_grass(t)*cprodc_B\n",
    "        }),\n",
    "        OutFluxesBySymbol({\n",
    "            STDEDC: r_leaf2out * STDEDC,\n",
    "            STRUCC_1: r_wood2out * STRUCC_1\n",
    "        }),\n",
    "        InternalFluxesBySymbol({\n",
    "            (AGLIVC, STDEDC): cultra1* AGLIVC, \n",
    "            (STDEDC, STRUCC_1): cultra4* STDEDC, \n",
    "            #(STRUCC_1, C_leaf): k_wood2leaf * STRUCC\n",
    "        }),\n",
    "    },\n",
    "    bgc_md2_computers()\n",
    "\n",
    ")"
   ]
  },
  {
   "cell_type": "code",
   "execution_count": 107,
   "id": "3b5578f9",
   "metadata": {},
   "outputs": [],
   "source": [
    "#start to query the model description..\n",
    "M=mvs.get_CompartmentalMatrix()\n",
    "#M.inverse_LU()"
   ]
  },
  {
   "cell_type": "code",
   "execution_count": 108,
   "id": "a2576b56",
   "metadata": {},
   "outputs": [
    {
     "data": {
      "text/latex": [
       "$\\displaystyle \\left[\\begin{matrix}cprodc_{A} \\operatorname{Gpp_{grass}}{\\left(t \\right)}\\\\\\left(1 - cprodc_{A}\\right) \\operatorname{Gpp_{grass}}{\\left(t \\right)}\\\\0\\\\0\\\\0\\\\0\\\\0\\\\0\\\\0\\\\0\\\\0\\end{matrix}\\right]$"
      ],
      "text/plain": [
       "Matrix([\n",
       "[      cprodc_A*Gpp_grass(t)],\n",
       "[(1 - cprodc_A)*Gpp_grass(t)],\n",
       "[                          0],\n",
       "[                          0],\n",
       "[                          0],\n",
       "[                          0],\n",
       "[                          0],\n",
       "[                          0],\n",
       "[                          0],\n",
       "[                          0],\n",
       "[                          0]])"
      ]
     },
     "execution_count": 108,
     "metadata": {},
     "output_type": "execute_result"
    }
   ],
   "source": [
    "mvs.get_InputTuple()"
   ]
  },
  {
   "cell_type": "code",
   "execution_count": 109,
   "id": "9c951caa",
   "metadata": {},
   "outputs": [
    {
     "data": {
      "text/latex": [
       "$\\displaystyle \\left[\\begin{matrix}AGLIVC\\\\BGLIVC\\\\STDEDC\\\\STRUCC_{1}\\\\STRUCC_{2}\\\\SOM1C1\\\\SOM1C2\\\\SOM2C\\\\SOM3C\\\\METABC_{1}\\\\METABC_{2}\\end{matrix}\\right]$"
      ],
      "text/plain": [
       "Matrix([\n",
       "[  AGLIVC],\n",
       "[  BGLIVC],\n",
       "[  STDEDC],\n",
       "[STRUCC_1],\n",
       "[STRUCC_2],\n",
       "[  SOM1C1],\n",
       "[  SOM1C2],\n",
       "[   SOM2C],\n",
       "[   SOM3C],\n",
       "[METABC_1],\n",
       "[METABC_2]])"
      ]
     },
     "execution_count": 109,
     "metadata": {},
     "output_type": "execute_result"
    }
   ],
   "source": [
    "mvs.get_StateVariableTuple()"
   ]
  },
  {
   "cell_type": "code",
   "execution_count": 110,
   "id": "06e9a1c7",
   "metadata": {
    "lines_to_next_cell": 2
   },
   "outputs": [
    {
     "data": {
      "image/png": "[encoded data removed]",
      "text/plain": [
       "<Figure size 432x288 with 1 Axes>"
      ]
     },
     "execution_count": 110,
     "metadata": {},
     "output_type": "execute_result"
    }
   ],
   "source": [
    "from bgc_md2.helper import compartmental_graph\n",
    "compartmental_graph(mvs)"
   ]
  },
  {
   "cell_type": "code",
   "execution_count": 111,
   "id": "38dc7ebc",
   "metadata": {},
   "outputs": [
    {
     "data": {
      "text/latex": [
       "$\\displaystyle \\frac{dx}{dt}=\\left[\\begin{matrix}cprodc_{A} \\operatorname{Gpp_{grass}}{\\left(t \\right)}\\\\\\left(1 - cprodc_{A}\\right) \\operatorname{Gpp_{grass}}{\\left(t \\right)}\\\\0\\\\0\\\\0\\\\0\\\\0\\\\0\\\\0\\\\0\\\\0\\end{matrix}\\right]+\\left[\\begin{array}{ccccccccccc}- cultra_{1} & 0 & 0 & 0 & 0 & 0 & 0 & 0 & 0 & 0 & 0\\\\0 & 0 & 0 & 0 & 0 & 0 & 0 & 0 & 0 & 0 & 0\\\\cultra_{1} & 0 & - cultra_{4} - r_{leaf2out} & 0 & 0 & 0 & 0 & 0 & 0 & 0 & 0\\\\0 & 0 & cultra_{4} & - r_{wood2out} & 0 & 0 & 0 & 0 & 0 & 0 & 0\\\\0 & 0 & 0 & 0 & 0 & 0 & 0 & 0 & 0 & 0 & 0\\\\0 & 0 & 0 & 0 & 0 & 0 & 0 & 0 & 0 & 0 & 0\\\\0 & 0 & 0 & 0 & 0 & 0 & 0 & 0 & 0 & 0 & 0\\\\0 & 0 & 0 & 0 & 0 & 0 & 0 & 0 & 0 & 0 & 0\\\\0 & 0 & 0 & 0 & 0 & 0 & 0 & 0 & 0 & 0 & 0\\\\0 & 0 & 0 & 0 & 0 & 0 & 0 & 0 & 0 & 0 & 0\\\\0 & 0 & 0 & 0 & 0 & 0 & 0 & 0 & 0 & 0 & 0\\end{array}\\right]\\left[\\begin{matrix}AGLIVC\\\\BGLIVC\\\\STDEDC\\\\STRUCC_{1}\\\\STRUCC_{2}\\\\SOM1C1\\\\SOM1C2\\\\SOM2C\\\\SOM3C\\\\METABC_{1}\\\\METABC_{2}\\end{matrix}\\right]$"
      ],
      "text/plain": [
       "<IPython.core.display.Math object>"
      ]
     },
     "execution_count": 111,
     "metadata": {},
     "output_type": "execute_result"
    }
   ],
   "source": [
    "from bgc_md2.display_helpers import mass_balance_equation\n",
    "mass_balance_equation(mvs)"
   ]
  },
  {
   "cell_type": "code",
   "execution_count": null,
   "id": "cf16f271",
   "metadata": {
    "lines_to_next_cell": 2
   },
   "outputs": [],
   "source": [
    "# for comparison the century model as found in our database\n",
    "from bgc_md2.models.Parton1987SoilSciSocAmJ.source_by_name import mvs as mvs_century"
   ]
  },
  {
   "cell_type": "code",
   "execution_count": 99,
   "id": "12d5b020",
   "metadata": {},
   "outputs": [
    {
     "data": {
      "text/plain": [
       "<bound method CMTVS.computable_mvar_types of CMTVS({InternalFluxesBySymbol = InternalFluxesBySymbol({(AGLIVC, STDEDC): AGLIVC*cultra1, (STDEDC, STRUCC_1): STDEDC*cultra4}), StateVariableTuple = Matrix([[AGLIVC], [BGLIVC], [STDEDC], [STRUCC_1], [STRUCC_2], [METABC_1]]), OutFluxesBySymbol = OutFluxesBySymbol({STDEDC: STDEDC*r_leaf2out, STRUCC_1: STRUCC_1*r_wood2out}), InFluxesBySymbol = InFluxesBySymbol({AGLIVC: cprodc_A*Gpp_grass(t), BGLIVC: (1 - cprodc_A)*Gpp_grass(t)}), TimeSymbol = t})>"
      ]
     },
     "execution_count": 99,
     "metadata": {},
     "output_type": "execute_result"
    }
   ],
   "source": [
    "mvs.computable_mvar_types"
   ]
  },
  {
   "cell_type": "code",
   "execution_count": null,
   "id": "981699d8",
   "metadata": {},
   "outputs": [],
   "source": [
    "mvs_century.get_InputTuple()"
   ]
  },
  {
   "cell_type": "code",
   "execution_count": null,
   "id": "7732fb62",
   "metadata": {},
   "outputs": [],
   "source": [
    "compartmental_graph(mvs_century)"
   ]
  },
  {
   "cell_type": "code",
   "execution_count": null,
   "id": "2ec28967",
   "metadata": {},
   "outputs": [],
   "source": [
    "BI=mvs_century.get_BibInfo()\n",
    "BI.sym_dict"
   ]
  },
  {
   "cell_type": "code",
   "execution_count": 51,
   "id": "ce384660",
   "metadata": {},
   "outputs": [],
   "source": [
    "x=Symbol(\"x\")"
   ]
  },
  {
   "cell_type": "code",
   "execution_count": 53,
   "id": "dea3b07c",
   "metadata": {},
   "outputs": [
    {
     "data": {
      "text/latex": [
       "$\\displaystyle x^{2} - x$"
      ],
      "text/plain": [
       "x**2 - x"
      ]
     },
     "execution_count": 53,
     "metadata": {},
     "output_type": "execute_result"
    }
   ],
   "source": [
    "\n",
    "s=x**2-x\n",
    "\n",
    "s"
   ]
  },
  {
   "cell_type": "code",
   "execution_count": 54,
   "id": "b40e4bc8",
   "metadata": {},
   "outputs": [
    {
     "data": {
      "text/plain": [
       "sympy.core.add.Add"
      ]
     },
     "execution_count": 54,
     "metadata": {},
     "output_type": "execute_result"
    }
   ],
   "source": [
    "type(s)"
   ]
  },
  {
   "cell_type": "code",
   "execution_count": 46,
   "id": "761bb0db",
   "metadata": {},
   "outputs": [
    {
     "data": {
      "text/plain": [
       "5"
      ]
     },
     "execution_count": 46,
     "metadata": {},
     "output_type": "execute_result"
    }
   ],
   "source": [
    "a\n"
   ]
  },
  {
   "cell_type": "code",
   "execution_count": null,
   "id": "fe654bc2",
   "metadata": {},
   "outputs": [],
   "source": []
  }
 ],
 "metadata": {
  "jupytext": {
   "cell_metadata_filter": "-all",
   "formats": "auto:light,ipynb",
   "notebook_metadata_filter": "-all"
  },
  "kernelspec": {
   "display_name": "Python 3 (ipykernel)",
   "language": "python",
   "name": "python3"
  },
  "language_info": {
   "codemirror_mode": {
    "name": "ipython",
    "version": 3
   },
   "file_extension": ".py",
   "mimetype": "text/x-python",
   "name": "python",
   "nbconvert_exporter": "python",
   "pygments_lexer": "ipython3",
   "version": "3.9.7"
  }
 },
 "nbformat": 4,
 "nbformat_minor": 5
}
