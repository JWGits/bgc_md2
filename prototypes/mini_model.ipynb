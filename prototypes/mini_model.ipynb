{
 "cells": [
  {
   "cell_type": "code",
   "execution_count": 1,
   "id": "4cf6914c",
   "metadata": {},
   "outputs": [],
   "source": [
    "from sympy import var,Function\n",
    "from ComputabilityGraphs.CMTVS import CMTVS\n",
    "from bgc_md2.helper import bgc_md2_computers\n",
    "from bgc_md2.resolve.mvars import (\n",
    "    InFluxesBySymbol,\n",
    "    OutFluxesBySymbol,\n",
    "    InternalFluxesBySymbol,\n",
    "    TimeSymbol,\n",
    "    StateVariableTuple,\n",
    ")"
   ]
  },
  {
   "cell_type": "code",
   "execution_count": 2,
   "id": "bcc5b0ad",
   "metadata": {
    "lines_to_next_cell": 2
   },
   "outputs": [],
   "source": [
    "#define all the symbols you are going to use in the equations\n",
    "var(\"\"\"\n",
    "    C_leaf \n",
    "    C_wood\n",
    "    k_leaf2wood\n",
    "    k_wood2leaf\n",
    "    k_leaf2out\n",
    "    k_wood2out\n",
    "\"\"\")\n",
    "I_leaf=Function(\"I_leaf\") # We can also represent functions symbolically\n",
    "I_wood=Function(\"I_wood\") \n",
    "t=TimeSymbol(\"t\") # the symbol used for time since it has a special role"
   ]
  },
  {
   "cell_type": "code",
   "execution_count": 3,
   "id": "6189066f",
   "metadata": {},
   "outputs": [],
   "source": [
    "# formulate the model\n",
    "mvs = CMTVS(\n",
    "    {\n",
    "        StateVariableTuple( # the pool names in your preferred order\n",
    "            (\n",
    "                C_leaf,\n",
    "                C_wood\n",
    "            )\n",
    "        ), \n",
    "        t, \n",
    "        InFluxesBySymbol({\n",
    "            C_leaf: I_leaf(t), \n",
    "            C_wood: I_wood(t)\n",
    "        }),\n",
    "        OutFluxesBySymbol({\n",
    "            C_leaf: k_leaf2out * C_leaf,\n",
    "            C_wood: k_wood2out * C_wood\n",
    "        }),\n",
    "        InternalFluxesBySymbol({\n",
    "            (C_leaf, C_wood): k_leaf2wood* C_leaf, \n",
    "            (C_wood, C_leaf): k_wood2leaf * C_wood}),\n",
    "    },\n",
    "    bgc_md2_computers()\n",
    "\n",
    ")"
   ]
  },
  {
   "cell_type": "code",
   "execution_count": 4,
   "id": "c3213d73",
   "metadata": {},
   "outputs": [
    {
     "name": "stdout",
     "output_type": "stream",
     "text": [
      "{InputTuple,CompartmentalMatrix}\n",
      "{OutFluxesBySymbol,CompartmentalMatrix,InternalFluxesBySymbol,InputTuple,InFluxesBySymbol,SmoothReservoirModel}\n",
      "{OutFluxesBySymbol,CompartmentalMatrix,InternalFluxesBySymbol,InputTuple,InFluxesBySymbol,SmoothReservoirModel}\n"
     ]
    },
    {
     "data": {
      "text/latex": [
       "$\\displaystyle \\left[\\begin{matrix}- k_{leaf2out} - k_{leaf2wood} & k_{wood2leaf}\\\\k_{leaf2wood} & - k_{wood2leaf} - k_{wood2out}\\end{matrix}\\right]$"
      ],
      "text/plain": [
       "Matrix([\n",
       "[-k_leaf2out - k_leaf2wood,               k_wood2leaf],\n",
       "[              k_leaf2wood, -k_wood2leaf - k_wood2out]])"
      ]
     },
     "execution_count": 4,
     "metadata": {},
     "output_type": "execute_result"
    }
   ],
   "source": [
    "#start to query the model description..\n",
    "mvs.get_CompartmentalMatrix()"
   ]
  },
  {
   "cell_type": "code",
   "execution_count": 5,
   "id": "61e97724",
   "metadata": {},
   "outputs": [
    {
     "data": {
      "text/latex": [
       "$\\displaystyle \\left[\\begin{matrix}\\operatorname{I_{leaf}}{\\left(t \\right)}\\\\\\operatorname{I_{wood}}{\\left(t \\right)}\\end{matrix}\\right]$"
      ],
      "text/plain": [
       "Matrix([\n",
       "[I_leaf(t)],\n",
       "[I_wood(t)]])"
      ]
     },
     "execution_count": 5,
     "metadata": {},
     "output_type": "execute_result"
    }
   ],
   "source": [
    "mvs.get_InputTuple()"
   ]
  },
  {
   "cell_type": "code",
   "execution_count": 13,
   "id": "a81913da",
   "metadata": {},
   "outputs": [
    {
     "data": {
      "text/latex": [
       "$\\displaystyle \\left[\\begin{matrix}C_{leaf}\\\\C_{wood}\\end{matrix}\\right]$"
      ],
      "text/plain": [
       "Matrix([\n",
       "[C_leaf],\n",
       "[C_wood]])"
      ]
     },
     "execution_count": 13,
     "metadata": {},
     "output_type": "execute_result"
    }
   ],
   "source": [
    "mvs.get_StateVariableTuple()"
   ]
  },
  {
   "cell_type": "code",
   "execution_count": 6,
   "id": "be0f3f32",
   "metadata": {
    "lines_to_next_cell": 2
   },
   "outputs": [
    {
     "data": {
      "image/png": "[encoded data removed]",
      "text/plain": [
       "<Figure size 432x288 with 1 Axes>"
      ]
     },
     "execution_count": 6,
     "metadata": {},
     "output_type": "execute_result"
    }
   ],
   "source": [
    "from bgc_md2.helper import compartmental_graph\n",
    "compartmental_graph(mvs)"
   ]
  },
  {
   "cell_type": "code",
   "execution_count": 7,
   "id": "b3097ea9",
   "metadata": {},
   "outputs": [
    {
     "data": {
      "application/vnd.jupyter.widget-view+json": {
       "model_id": "f7d667e291bc4e76a7a481490414b5de",
       "version_major": 2,
       "version_minor": 0
      },
      "text/plain": [
       "HTML(value='<style>.container { width:100% !important; }</style>')"
      ]
     },
     "metadata": {},
     "output_type": "display_data"
    },
    {
     "data": {
      "text/latex": [
       "$\\displaystyle \\frac{dx}{dt}=\\left[\\begin{matrix}\\operatorname{I_{leaf}}{\\left(t \\right)}\\\\\\operatorname{I_{wood}}{\\left(t \\right)}\\end{matrix}\\right]+\\left[\\begin{matrix}- k_{leaf2out} - k_{leaf2wood} & k_{wood2leaf}\\\\k_{leaf2wood} & - k_{wood2leaf} - k_{wood2out}\\end{matrix}\\right]\\left[\\begin{matrix}C_{leaf}\\\\C_{wood}\\end{matrix}\\right]$"
      ],
      "text/plain": [
       "<IPython.core.display.Math object>"
      ]
     },
     "execution_count": 7,
     "metadata": {},
     "output_type": "execute_result"
    }
   ],
   "source": [
    "from bgc_md2.display_helpers import mass_balance_equation\n",
    "mass_balance_equation(mvs)"
   ]
  },
  {
   "cell_type": "code",
   "execution_count": 8,
   "id": "0bce4a15",
   "metadata": {
    "lines_to_next_cell": 2
   },
   "outputs": [],
   "source": [
    "# for comparison the century model as found in our database\n",
    "from bgc_md2.models.Parton1987SoilSciSocAmJ.source_by_name import mvs as mvs_century"
   ]
  },
  {
   "cell_type": "code",
   "execution_count": 9,
   "id": "e8c39436",
   "metadata": {},
   "outputs": [
    {
     "name": "stdout",
     "output_type": "stream",
     "text": [
      "{OutFluxesBySymbol,InternalFluxesBySymbol,InFluxesBySymbol,NumericStartValueArray,SmoothReservoirModel}\n",
      "{OutFluxesBySymbol,CompartmentalMatrix,InternalFluxesBySymbol,NumericStartValueDict,InputTuple,InFluxesBySymbol,NumericStartValueArray,SmoothReservoirModel}\n"
     ]
    },
    {
     "data": {
      "text/latex": [
       "$\\displaystyle \\left[\\begin{matrix}- K_{ssl} f_{T} f_{W} e^{- 3 Ls} & 0 & 0 & 0 & 0 & 0 & 0\\\\0 & - K_{msl} f_{T} f_{W} & 0 & 0 & 0 & 0 & 0\\\\0 & 0 & - K_{sl} f_{T} f_{W} e^{- 3 Ls} & 0 & 0 & 0 & 0\\\\0 & 0 & 0 & - K_{ml} f_{T} f_{W} & 0 & 0 & 0\\\\K_{ssl} f_{T} f_{W} \\left(0.55 - 0.55 A_{l}\\right) e^{- 3 Ls} & 0.45 K_{msl} f_{T} f_{W} & K_{sl} f_{T} f_{W} \\left(0.45 - 0.45 A_{l}\\right) e^{- 3 Ls} & 0.45 K_{ml} f_{T} f_{W} & - K_{asom} f_{T} f_{W} \\left(1 - 0.75 Tx\\right) & 0.42 K_{ssom} f_{T} f_{W} & 0.45 K_{psom} f_{T} f_{W}\\\\0.7 A_{l} K_{ssl} f_{T} f_{W} e^{- 3 Ls} & 0 & 0.7 A_{l} K_{sl} f_{T} f_{W} e^{- 3 Ls} & 0 & K_{asom} f_{T} f_{W} \\left(1 - 0.75 Tx\\right) \\left(0.68 Tx + 0.146\\right) & - K_{ssom} f_{T} f_{W} & 0\\\\0 & 0 & 0 & 0 & 0.004 K_{asom} f_{T} f_{W} \\left(1 - 0.75 Tx\\right) & 0.03 K_{ssom} f_{T} f_{W} & - K_{psom} f_{T} f_{W}\\end{matrix}\\right]$"
      ],
      "text/plain": [
       "Matrix([\n",
       "[                 -K_ssl*f_T*f_W*exp(-3*Ls),                  0,                                         0,                 0,                                              0,                   0,                   0],\n",
       "[                                         0,     -K_msl*f_T*f_W,                                         0,                 0,                                              0,                   0,                   0],\n",
       "[                                         0,                  0,                  -K_sl*f_T*f_W*exp(-3*Ls),                 0,                                              0,                   0,                   0],\n",
       "[                                         0,                  0,                                         0,     -K_ml*f_T*f_W,                                              0,                   0,                   0],\n",
       "[K_ssl*f_T*f_W*(0.55 - 0.55*A_l)*exp(-3*Ls), 0.45*K_msl*f_T*f_W, K_sl*f_T*f_W*(0.45 - 0.45*A_l)*exp(-3*Ls), 0.45*K_ml*f_T*f_W,                  -K_asom*f_T*f_W*(1 - 0.75*Tx), 0.42*K_ssom*f_T*f_W, 0.45*K_psom*f_T*f_W],\n",
       "[          0.7*A_l*K_ssl*f_T*f_W*exp(-3*Ls),                  0,           0.7*A_l*K_sl*f_T*f_W*exp(-3*Ls),                 0, K_asom*f_T*f_W*(1 - 0.75*Tx)*(0.68*Tx + 0.146),     -K_ssom*f_T*f_W,                   0],\n",
       "[                                         0,                  0,                                         0,                 0,             0.004*K_asom*f_T*f_W*(1 - 0.75*Tx), 0.03*K_ssom*f_T*f_W,     -K_psom*f_T*f_W]])"
      ]
     },
     "execution_count": 9,
     "metadata": {},
     "output_type": "execute_result"
    }
   ],
   "source": [
    "mvs_century.get_CompartmentalMatrix()"
   ]
  },
  {
   "cell_type": "code",
   "execution_count": 10,
   "id": "7418d540",
   "metadata": {},
   "outputs": [
    {
     "data": {
      "text/latex": [
       "$\\displaystyle \\left[\\begin{matrix}J_{surf} \\left(0.018 LN + 0.15\\right)\\\\J_{surf} \\left(0.85 - 0.018 LN\\right)\\\\J_{soil} \\left(0.018 LN + 0.15\\right)\\\\J_{soil} \\left(0.85 - 0.018 LN\\right)\\\\0\\\\0\\\\0\\end{matrix}\\right]$"
      ],
      "text/plain": [
       "Matrix([\n",
       "[J_surf*(0.018*LN + 0.15)],\n",
       "[J_surf*(0.85 - 0.018*LN)],\n",
       "[J_soil*(0.018*LN + 0.15)],\n",
       "[J_soil*(0.85 - 0.018*LN)],\n",
       "[                       0],\n",
       "[                       0],\n",
       "[                       0]])"
      ]
     },
     "execution_count": 10,
     "metadata": {},
     "output_type": "execute_result"
    }
   ],
   "source": [
    "mvs_century.get_InputTuple()"
   ]
  },
  {
   "cell_type": "code",
   "execution_count": 11,
   "id": "dd63733c",
   "metadata": {},
   "outputs": [
    {
     "data": {
      "image/png": "[encoded data removed]",
      "text/plain": [
       "<Figure size 432x288 with 1 Axes>"
      ]
     },
     "execution_count": 11,
     "metadata": {},
     "output_type": "execute_result"
    }
   ],
   "source": [
    "compartmental_graph(mvs_century)"
   ]
  },
  {
   "cell_type": "code",
   "execution_count": 12,
   "id": "30c7743e",
   "metadata": {},
   "outputs": [
    {
     "data": {
      "text/plain": [
       "{'C_ssl': 'structural soil surface litter pool',\n",
       " 'C_msl': 'metabolic soil surface litter pool',\n",
       " 'C_sl': 'structural soil litter pool',\n",
       " 'C_ml': 'metabolic soil litter pool',\n",
       " 'C_asom': 'active soil organic matter pool',\n",
       " 'C_ssom': 'slow soil organic matter pool',\n",
       " 'C_psom': 'passive soil organic matter pool',\n",
       " 'K_ssl': 'maximum decomposition rate of structural soil surface litter',\n",
       " 'K_msl': 'maximum decomposition rate of metabolic soil surface litter',\n",
       " 'K_sl': 'maximum decomposition rate of structural soil litter',\n",
       " 'K_ml': 'maximum decomposition rate of metabolic soil litter',\n",
       " 'K_asom': 'maximum decomposition rate of active soil organic matter',\n",
       " 'K_ssom': 'maximum decomposition rate of slow soil organic matter',\n",
       " 'K_psom': 'maximum decomposition rate of passive organic matter',\n",
       " 'k_ssl': 'decomposition rate of structural soil surface litter',\n",
       " 'k_sl': 'decomposition rate of structural soil litter',\n",
       " 'k_asom': 'decomposition rate of active soil organic matter',\n",
       " 'LN': 'lignin-to-nitrogen ratio',\n",
       " 'Ls': 'fraction of structural material that is lignin',\n",
       " 'Tx': 'silt and clay fraction of the soil',\n",
       " 'A_l': 'lignin fraction that is composed in structural pools (equals Ls?)',\n",
       " 'E_s': '\"fraction of carbon lost as CO$_2$ when active soil organic matter is decomposed and stabilized into slow organic matter\"',\n",
       " 'F_m': 'fraction of incoming metabolic litter',\n",
       " 'F_s': 'fraction of incoming structural litter',\n",
       " 'J_surf': 'organic matter input to surface',\n",
       " 'J_soil': 'organic matter input to soil',\n",
       " 'alpha_asom_from_ssl': 'flux coefficient from strucutral soil surface litter pool to active soil organic matter pool',\n",
       " 'alpha_asom_from_sl': 'flux coefficient from strucutral soil litter pool to active soil organic matter pool',\n",
       " 'alpha_ssom_from_ssl': 'flux coefficient from strucutral soil surface litter pool to slow soil organic matter pool',\n",
       " 'alpha_ssom_from_sl': 'flux coefficient from strucutral soil litter pool to slow soil organic matter pool',\n",
       " 'alpha_ssom_from_asom': 'flux coefficient from active soil organic matter pool to slow soil organic matter pool',\n",
       " 'f_T': 'function of temperature',\n",
       " 'f_W': 'function of soil moisture'}"
      ]
     },
     "execution_count": 12,
     "metadata": {},
     "output_type": "execute_result"
    }
   ],
   "source": [
    "BI=mvs_century.get_BibInfo()\n",
    "BI.sym_dict"
   ]
  },
  {
   "cell_type": "code",
   "execution_count": null,
   "id": "17041c61",
   "metadata": {},
   "outputs": [],
   "source": []
  }
 ],
 "metadata": {
  "jupytext": {
   "cell_metadata_filter": "-all",
   "notebook_metadata_filter": "-all"
  },
  "kernelspec": {
   "display_name": "Python 3 (ipykernel)",
   "language": "python",
   "name": "python3"
  },
  "language_info": {
   "codemirror_mode": {
    "name": "ipython",
    "version": 3
   },
   "file_extension": ".py",
   "mimetype": "text/x-python",
   "name": "python",
   "nbconvert_exporter": "python",
   "pygments_lexer": "ipython3",
   "version": "3.9.7"
  }
 },
 "nbformat": 4,
 "nbformat_minor": 5
}
